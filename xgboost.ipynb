{
 "cells": [
  {
   "cell_type": "code",
   "execution_count": 1,
   "id": "0bdae15c-bb56-4240-b080-4e0321f52e61",
   "metadata": {},
   "outputs": [
    {
     "name": "stdout",
     "output_type": "stream",
     "text": [
      "Accuracy: 1.0000\n",
      "Precision: 1.0000\n",
      "Recall: 1.0000\n",
      "F1-Score: 1.0000\n",
      "Confusion Matrix:\n",
      "[[100   0]\n",
      " [  0 100]]\n"
     ]
    },
    {
     "data": {
      "text/plain": [
       "['ddos_detector.pkl']"
      ]
     },
     "execution_count": 1,
     "metadata": {},
     "output_type": "execute_result"
    }
   ],
   "source": [
    "import pandas as pd\n",
    "from sklearn.model_selection import train_test_split\n",
    "from sklearn.preprocessing import StandardScaler, OneHotEncoder\n",
    "from sklearn.compose import ColumnTransformer\n",
    "from sklearn.pipeline import Pipeline\n",
    "from sklearn.ensemble import RandomForestClassifier\n",
    "from sklearn.metrics import (accuracy_score, precision_score, \n",
    "                             recall_score, f1_score, confusion_matrix)\n",
    "import joblib\n",
    "\n",
    "# Load and preprocess data\n",
    "df = pd.read_csv(\"ddos_dataset.csv\")\n",
    "df = df.drop(['timestamp', 'source_ip', 'destination_ip', 'source_port'], axis=1)\n",
    "df['tcp_flags'] = df['tcp_flags'].replace('', 'None')\n",
    "df['destination_port'] = df['destination_port'].astype(str)\n",
    "\n",
    "X = df.drop('label', axis=1)\n",
    "y = df['label']\n",
    "X_train, X_test, y_train, y_test = train_test_split(X, y, test_size=0.2, random_state=42, stratify=y)\n",
    "\n",
    "# Create preprocessing pipeline\n",
    "preprocessor = ColumnTransformer(transformers=[\n",
    "    ('num', StandardScaler(), ['packet_count', 'packet_size', 'duration']),\n",
    "    ('cat', OneHotEncoder(handle_unknown='ignore'), ['protocol', 'destination_port', 'tcp_flags'])\n",
    "])\n",
    "\n",
    "# Build and train model\n",
    "model = Pipeline(steps=[\n",
    "    ('preprocessor', preprocessor),\n",
    "    ('classifier', RandomForestClassifier(\n",
    "        n_estimators=200,\n",
    "        max_depth=10,\n",
    "        class_weight='balanced',\n",
    "        random_state=42\n",
    "    ))\n",
    "])\n",
    "\n",
    "model.fit(X_train, y_train)\n",
    "\n",
    "# Evaluate performance\n",
    "y_pred = model.predict(X_test)\n",
    "print(f\"Accuracy: {accuracy_score(y_test, y_pred):.4f}\")\n",
    "print(f\"Precision: {precision_score(y_test, y_pred):.4f}\")\n",
    "print(f\"Recall: {recall_score(y_test, y_pred):.4f}\")\n",
    "print(f\"F1-Score: {f1_score(y_test, y_pred):.4f}\")\n",
    "print(\"Confusion Matrix:\")\n",
    "print(confusion_matrix(y_test, y_pred))\n",
    "\n",
    "# Save model\n",
    "joblib.dump(model, 'ddos_detector.pkl')"
   ]
  },
  {
   "cell_type": "code",
   "execution_count": 3,
   "id": "f4805137-6526-447a-851d-e6648c3d78bb",
   "metadata": {},
   "outputs": [
    {
     "name": "stdout",
     "output_type": "stream",
     "text": [
      "\n",
      "--- DDoS Detection Result ---\n",
      "Input Features: {'destination_port': '443', 'protocol': 'TCP', 'packet_count': 95, 'packet_size': 273, 'duration': 53, 'tcp_flags': 'ACK'}\n",
      "Prediction: Normal Traffic (0)\n",
      "Confidence: 100.00%\n",
      "-----------------------------\n"
     ]
    }
   ],
   "source": [
    "import pandas as pd\n",
    "import joblib\n",
    "\n",
    "# Load the trained model\n",
    "model = joblib.load('ddos_detector.pkl')\n",
    "\n",
    "# Input features format\n",
    "input_data = {\n",
    "    'destination_port': '443',       # As string\n",
    "    'protocol': 'TCP',              # ['TCP', 'UDP', 'ICMP']\n",
    "    'packet_count': 95,           # Numeric value\n",
    "    'packet_size': 273,            # Numeric value\n",
    "    'duration': 53,                  # Numeric value (seconds)\n",
    "    'tcp_flags': 'ACK'             # ['SYN', 'ACK', 'RST', 'FIN', 'PSH', 'None']\n",
    "}\n",
    "\n",
    "# Convert to DataFrame\n",
    "input_df = pd.DataFrame([input_data])\n",
    "\n",
    "# Make prediction\n",
    "prediction = model.predict(input_df)\n",
    "\n",
    "# Get prediction probability\n",
    "probability = model.predict_proba(input_df)[0]\n",
    "\n",
    "# Output result\n",
    "print(\"\\n--- DDoS Detection Result ---\")\n",
    "print(f\"Input Features: {input_data}\")\n",
    "print(f\"Prediction: {'DDoS Attack (1)' if prediction[0] == 1 else 'Normal Traffic (0)'}\")\n",
    "print(f\"Confidence: {probability[prediction[0]]*100:.2f}%\")\n",
    "print(\"-----------------------------\")"
   ]
  },
  {
   "cell_type": "code",
   "execution_count": null,
   "id": "2bdbbd6e-e458-4ab2-a585-385d59c7f9ce",
   "metadata": {},
   "outputs": [],
   "source": []
  }
 ],
 "metadata": {
  "kernelspec": {
   "display_name": "Python 3 (ipykernel)",
   "language": "python",
   "name": "python3"
  },
  "language_info": {
   "codemirror_mode": {
    "name": "ipython",
    "version": 3
   },
   "file_extension": ".py",
   "mimetype": "text/x-python",
   "name": "python",
   "nbconvert_exporter": "python",
   "pygments_lexer": "ipython3",
   "version": "3.12.0"
  }
 },
 "nbformat": 4,
 "nbformat_minor": 5
}
