{
 "cells": [
  {
   "cell_type": "code",
   "execution_count": 1,
   "id": "d6bb2ab5-cdd5-4688-9ca5-87bc8ec20bbc",
   "metadata": {},
   "outputs": [
    {
     "name": "stdout",
     "output_type": "stream",
     "text": [
      "\n",
      "--- DDoS Detection Result ---\n",
      "Input Features: {'destination_port': '443', 'protocol': 'TCP', 'packet_count': 95, 'packet_size': 273, 'duration': 53, 'tcp_flags': 'ACK'}\n",
      "Prediction: Normal Traffic (0)\n",
      "Confidence: 100.00%\n",
      "-----------------------------\n"
     ]
    }
   ],
   "source": [
    "import pandas as pd\n",
    "import joblib\n",
    "\n",
    "# Load the trained model\n",
    "model = joblib.load('ddos_detector.pkl')\n",
    "\n",
    "# Input features format\n",
    "input_data = {\n",
    "    'destination_port': '443',       # As string\n",
    "    'protocol': 'TCP',              # ['TCP', 'UDP', 'ICMP']\n",
    "    'packet_count': 95,           # Numeric value\n",
    "    'packet_size': 273,            # Numeric value\n",
    "    'duration': 53,                  # Numeric value (seconds)\n",
    "    'tcp_flags': 'ACK'             # ['SYN', 'ACK', 'RST', 'FIN', 'PSH', 'None']\n",
    "}\n",
    "\n",
    "# Convert to DataFrame\n",
    "input_df = pd.DataFrame([input_data])\n",
    "\n",
    "# Make prediction\n",
    "prediction = model.predict(input_df)\n",
    "\n",
    "# Get prediction probability\n",
    "probability = model.predict_proba(input_df)[0]\n",
    "\n",
    "# Output result\n",
    "print(\"\\n--- DDoS Detection Result ---\")\n",
    "print(f\"Input Features: {input_data}\")\n",
    "print(f\"Prediction: {'DDoS Attack (1)' if prediction[0] == 1 else 'Normal Traffic (0)'}\")\n",
    "print(f\"Confidence: {probability[prediction[0]]*100:.2f}%\")\n",
    "print(\"-----------------------------\")"
   ]
  },
  {
   "cell_type": "code",
   "execution_count": null,
   "id": "334da89a-b991-48ab-bd35-0f02c018661b",
   "metadata": {},
   "outputs": [],
   "source": []
  }
 ],
 "metadata": {
  "kernelspec": {
   "display_name": "Python 3 (ipykernel)",
   "language": "python",
   "name": "python3"
  },
  "language_info": {
   "codemirror_mode": {
    "name": "ipython",
    "version": 3
   },
   "file_extension": ".py",
   "mimetype": "text/x-python",
   "name": "python",
   "nbconvert_exporter": "python",
   "pygments_lexer": "ipython3",
   "version": "3.12.0"
  }
 },
 "nbformat": 4,
 "nbformat_minor": 5
}
